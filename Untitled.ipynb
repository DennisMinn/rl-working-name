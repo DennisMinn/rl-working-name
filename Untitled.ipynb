{
 "cells": [
  {
   "cell_type": "code",
   "execution_count": 30,
   "id": "b30627bd",
   "metadata": {},
   "outputs": [
    {
     "name": "stdout",
     "output_type": "stream",
     "text": [
      "The autoreload extension is already loaded. To reload it, use:\n",
      "  %reload_ext autoreload\n"
     ]
    }
   ],
   "source": [
    "import gym\n",
    "from torch import optim\n",
    "from models import *\n",
    "import functools\n",
    "from tqdm.auto import tqdm\n",
    "import numpy as np\n",
    "from matplotlib import pyplot as plt\n",
    "%load_ext autoreload\n",
    "%autoreload 2"
   ]
  },
  {
   "cell_type": "code",
   "execution_count": 2,
   "id": "a11e924e",
   "metadata": {
    "scrolled": false
   },
   "outputs": [],
   "source": [
    "def G_t(trajectory):\n",
    "    rewards = [reward for _, _, reward in trajectory]\n",
    "    _return = functools.reduce(\n",
    "        lambda _return, reward: _return + reward[1] * pow(1, reward[0]),\n",
    "        enumerate(rewards),\n",
    "        0\n",
    "    )\n",
    "\n",
    "    return _return"
   ]
  },
  {
   "cell_type": "code",
   "execution_count": 99,
   "id": "7fc5c3df",
   "metadata": {
    "scrolled": true
   },
   "outputs": [
    {
     "data": {
      "application/vnd.jupyter.widget-view+json": {
       "model_id": "eba127aab3944fa98c1929297ba281f3",
       "version_major": 2,
       "version_minor": 0
      },
      "text/plain": [
       "  0%|          | 0/1000 [00:00<?, ?it/s]"
      ]
     },
     "metadata": {},
     "output_type": "display_data"
    },
    {
     "ename": "KeyboardInterrupt",
     "evalue": "",
     "output_type": "error",
     "traceback": [
      "\u001b[0;31m---------------------------------------------------------------------------\u001b[0m",
      "\u001b[0;31mKeyboardInterrupt\u001b[0m                         Traceback (most recent call last)",
      "Cell \u001b[0;32mIn[99], line 34\u001b[0m\n\u001b[1;32m     31\u001b[0m svalue_loss \u001b[38;5;241m=\u001b[39m F\u001b[38;5;241m.\u001b[39mmse_loss(svalue(state), G)\n\u001b[1;32m     32\u001b[0m policy_loss \u001b[38;5;241m=\u001b[39m svalue_loss\u001b[38;5;241m.\u001b[39mitem() \u001b[38;5;241m*\u001b[39m \u001b[38;5;241m-\u001b[39mpolicy(state)[action]\n\u001b[0;32m---> 34\u001b[0m \u001b[43mpolicy_loss\u001b[49m\u001b[38;5;241;43m.\u001b[39;49m\u001b[43mbackward\u001b[49m\u001b[43m(\u001b[49m\u001b[43m)\u001b[49m\n\u001b[1;32m     35\u001b[0m svalue_loss\u001b[38;5;241m.\u001b[39mbackward()\n\u001b[1;32m     37\u001b[0m svalue_optimizer\u001b[38;5;241m.\u001b[39mstep()\n",
      "File \u001b[0;32m~/Projects/rl-working-name/rl_venv/lib/python3.8/site-packages/torch/_tensor.py:487\u001b[0m, in \u001b[0;36mTensor.backward\u001b[0;34m(self, gradient, retain_graph, create_graph, inputs)\u001b[0m\n\u001b[1;32m    477\u001b[0m \u001b[38;5;28;01mif\u001b[39;00m has_torch_function_unary(\u001b[38;5;28mself\u001b[39m):\n\u001b[1;32m    478\u001b[0m     \u001b[38;5;28;01mreturn\u001b[39;00m handle_torch_function(\n\u001b[1;32m    479\u001b[0m         Tensor\u001b[38;5;241m.\u001b[39mbackward,\n\u001b[1;32m    480\u001b[0m         (\u001b[38;5;28mself\u001b[39m,),\n\u001b[0;32m   (...)\u001b[0m\n\u001b[1;32m    485\u001b[0m         inputs\u001b[38;5;241m=\u001b[39minputs,\n\u001b[1;32m    486\u001b[0m     )\n\u001b[0;32m--> 487\u001b[0m \u001b[43mtorch\u001b[49m\u001b[38;5;241;43m.\u001b[39;49m\u001b[43mautograd\u001b[49m\u001b[38;5;241;43m.\u001b[39;49m\u001b[43mbackward\u001b[49m\u001b[43m(\u001b[49m\n\u001b[1;32m    488\u001b[0m \u001b[43m    \u001b[49m\u001b[38;5;28;43mself\u001b[39;49m\u001b[43m,\u001b[49m\u001b[43m \u001b[49m\u001b[43mgradient\u001b[49m\u001b[43m,\u001b[49m\u001b[43m \u001b[49m\u001b[43mretain_graph\u001b[49m\u001b[43m,\u001b[49m\u001b[43m \u001b[49m\u001b[43mcreate_graph\u001b[49m\u001b[43m,\u001b[49m\u001b[43m \u001b[49m\u001b[43minputs\u001b[49m\u001b[38;5;241;43m=\u001b[39;49m\u001b[43minputs\u001b[49m\n\u001b[1;32m    489\u001b[0m \u001b[43m\u001b[49m\u001b[43m)\u001b[49m\n",
      "File \u001b[0;32m~/Projects/rl-working-name/rl_venv/lib/python3.8/site-packages/torch/autograd/__init__.py:103\u001b[0m, in \u001b[0;36mbackward\u001b[0;34m(tensors, grad_tensors, retain_graph, create_graph, grad_variables, inputs)\u001b[0m\n\u001b[1;32m     99\u001b[0m         \u001b[38;5;28;01mreturn\u001b[39;00m (tensors, )\n\u001b[1;32m    100\u001b[0m     \u001b[38;5;28;01mreturn\u001b[39;00m \u001b[38;5;28mtuple\u001b[39m(tensors)\n\u001b[0;32m--> 103\u001b[0m \u001b[38;5;28;01mdef\u001b[39;00m \u001b[38;5;21mbackward\u001b[39m(\n\u001b[1;32m    104\u001b[0m     tensors: _TensorOrTensors,\n\u001b[1;32m    105\u001b[0m     grad_tensors: Optional[_TensorOrTensors] \u001b[38;5;241m=\u001b[39m \u001b[38;5;28;01mNone\u001b[39;00m,\n\u001b[1;32m    106\u001b[0m     retain_graph: Optional[\u001b[38;5;28mbool\u001b[39m] \u001b[38;5;241m=\u001b[39m \u001b[38;5;28;01mNone\u001b[39;00m,\n\u001b[1;32m    107\u001b[0m     create_graph: \u001b[38;5;28mbool\u001b[39m \u001b[38;5;241m=\u001b[39m \u001b[38;5;28;01mFalse\u001b[39;00m,\n\u001b[1;32m    108\u001b[0m     grad_variables: Optional[_TensorOrTensors] \u001b[38;5;241m=\u001b[39m \u001b[38;5;28;01mNone\u001b[39;00m,\n\u001b[1;32m    109\u001b[0m     inputs: Optional[_TensorOrTensors] \u001b[38;5;241m=\u001b[39m \u001b[38;5;28;01mNone\u001b[39;00m,\n\u001b[1;32m    110\u001b[0m ) \u001b[38;5;241m-\u001b[39m\u001b[38;5;241m>\u001b[39m \u001b[38;5;28;01mNone\u001b[39;00m:\n\u001b[1;32m    111\u001b[0m     \u001b[38;5;124mr\u001b[39m\u001b[38;5;124;03m\"\"\"Computes the sum of gradients of given tensors with respect to graph\u001b[39;00m\n\u001b[1;32m    112\u001b[0m \u001b[38;5;124;03m    leaves.\u001b[39;00m\n\u001b[1;32m    113\u001b[0m \n\u001b[0;32m   (...)\u001b[0m\n\u001b[1;32m    166\u001b[0m \u001b[38;5;124;03m            were used to compute the attr::tensors.\u001b[39;00m\n\u001b[1;32m    167\u001b[0m \u001b[38;5;124;03m    \"\"\"\u001b[39;00m\n\u001b[1;32m    168\u001b[0m     \u001b[38;5;28;01mif\u001b[39;00m torch\u001b[38;5;241m.\u001b[39m_C\u001b[38;5;241m.\u001b[39m_are_functorch_transforms_active():\n",
      "\u001b[0;31mKeyboardInterrupt\u001b[0m: "
     ]
    }
   ],
   "source": [
    "env = gym.make(\"CartPole-v1\")\n",
    "svalue = StateValue(4)\n",
    "policy = Policy(4, 2)\n",
    "returns = []\n",
    "\n",
    "svalue_optimizer = optim.AdamW(svalue.parameters(), lr=2e-3)\n",
    "policy_optimizer = optim.AdamW(policy.parameters(), lr=2e-3)\n",
    "\n",
    "for episode in tqdm(range(1000)):\n",
    "    \n",
    "    history = []\n",
    "    state = env.reset()\n",
    "    isTerminal = False\n",
    "    score = 0\n",
    "    # episode\n",
    "    while not isTerminal:\n",
    "        with torch.no_grad():\n",
    "            action = np.random.choice(np.arange(2), p=policy(state).numpy())\n",
    "            \n",
    "        state_prime, reward, isTerminal, info = env.step(action)\n",
    "        \n",
    "        history.append((state, action, reward))\n",
    "        state = state_prime\n",
    "\n",
    "    for i in range(len(history)):\n",
    "        svalue_optimizer.zero_grad()\n",
    "        policy_optimizer.zero_grad()\n",
    "        \n",
    "        state, action, _ = history[i]\n",
    "\n",
    "        G = torch.tensor(G_t(history[i:])).unsqueeze(0)\n",
    "        svalue_loss = F.mse_loss(svalue(state), G)\n",
    "        policy_loss = svalue_loss.item() * -policy(state)[action]\n",
    "        \n",
    "        policy_loss.backward()\n",
    "        svalue_loss.backward()\n",
    "        \n",
    "        svalue_optimizer.step()\n",
    "        policy_optimizer.step()\n",
    "        \n",
    "    returns.append(G_t(history))\n",
    "        \n",
    "plt.plot(returns)"
   ]
  },
  {
   "cell_type": "code",
   "execution_count": 210,
   "id": "2b599c06",
   "metadata": {
    "scrolled": false
   },
   "outputs": [
    {
     "data": {
      "application/vnd.jupyter.widget-view+json": {
       "model_id": "668681fef0ae43c98d2e7943144db01f",
       "version_major": 2,
       "version_minor": 0
      },
      "text/plain": [
       "  0%|          | 0/1000 [00:00<?, ?it/s]"
      ]
     },
     "metadata": {},
     "output_type": "display_data"
    },
    {
     "name": "stdout",
     "output_type": "stream",
     "text": [
      "-200.0\r"
     ]
    },
    {
     "data": {
      "text/plain": [
       "[<matplotlib.lines.Line2D at 0x7f86fc9811f0>]"
      ]
     },
     "execution_count": 210,
     "metadata": {},
     "output_type": "execute_result"
    },
    {
     "data": {
      "image/png": "[encoded data removed]",
      "text/plain": [
       "<Figure size 640x480 with 1 Axes>"
      ]
     },
     "metadata": {},
     "output_type": "display_data"
    }
   ],
   "source": [
    "env = gym.make(\"MountainCar-v0\")\n",
    "svalue = StateValue(2)\n",
    "policy = Policy(2, 3)\n",
    "returns = []\n",
    "\n",
    "svalue_optimizer = optim.AdamW(svalue.parameters(), lr=2e-5)\n",
    "policy_optimizer = optim.AdamW(policy.parameters(), lr=2e-6)\n",
    "\n",
    "for episode in tqdm(range(1000)):\n",
    "    \n",
    "    history = []\n",
    "    state = env.reset()\n",
    "    isTerminal = False\n",
    "    t = 0\n",
    "    # episode\n",
    "    while not isTerminal:\n",
    "        with torch.no_grad():\n",
    "            action = np.random.choice(np.arange(3), p=policy(state).numpy())\n",
    "            \n",
    "        state_prime, reward, isTerminal, info = env.step(action)\n",
    "        \n",
    "        history.append((state, action, reward))\n",
    "        state = state_prime\n",
    "        t += 1\n",
    "\n",
    "    for i in range(len(history)):\n",
    "        svalue_optimizer.zero_grad()\n",
    "        policy_optimizer.zero_grad()\n",
    "        \n",
    "        state, action, _ = history[i]\n",
    "\n",
    "        G = torch.tensor(G_t(history[i:])).unsqueeze(0)\n",
    "        svalue_loss = F.mse_loss(svalue(state), G)\n",
    "        policy_loss = svalue_loss.item() * -policy(state)[action]\n",
    "        \n",
    "        policy_loss.backward()\n",
    "        svalue_loss.backward()\n",
    "        \n",
    "        svalue_optimizer.step()\n",
    "        policy_optimizer.step()\n",
    "        \n",
    "    returns.append(G_t(history))\n",
    "    print(G_t(history), end=\"\\r\")\n",
    "        \n",
    "plt.plot(returns)"
   ]
  },
  {
   "cell_type": "code",
   "execution_count": 223,
   "id": "936d1156",
   "metadata": {
    "scrolled": true
   },
   "outputs": [
    {
     "name": "stdout",
     "output_type": "stream",
     "text": [
      "tensor([0.0055, 0.0013, 0.9931]) [-0.32217282 -0.00656245]\n"
     ]
    }
   ],
   "source": [
    "with torch.no_grad():\n",
    "    print(policy([0.4, -0.0]), state)"
   ]
  },
  {
   "cell_type": "code",
   "execution_count": 218,
   "id": "593f9b49",
   "metadata": {},
   "outputs": [
    {
     "data": {
      "text/plain": [
       "[(array([-0.48703247,  0.        ], dtype=float32), 2, -1.0),\n",
       " (array([-0.48630616,  0.0007263 ], dtype=float32), 2, -1.0),\n",
       " (array([-0.48485896,  0.00144719], dtype=float32), 2, -1.0),\n",
       " (array([-0.4827017,  0.0021573], dtype=float32), 2, -1.0),\n",
       " (array([-0.47985035,  0.00285134], dtype=float32), 2, -1.0),\n",
       " (array([-0.47632617,  0.00352416], dtype=float32), 2, -1.0),\n",
       " (array([-0.47215536,  0.00417081], dtype=float32), 2, -1.0),\n",
       " (array([-0.46736887,  0.00478651], dtype=float32), 2, -1.0),\n",
       " (array([-0.46200207,  0.00536678], dtype=float32), 2, -1.0),\n",
       " (array([-0.45609465,  0.00590743], dtype=float32), 2, -1.0),\n",
       " (array([-0.44969004,  0.00640461], dtype=float32), 2, -1.0),\n",
       " (array([-0.4428352 ,  0.00685482], dtype=float32), 2, -1.0),\n",
       " (array([-0.4355802,  0.007255 ], dtype=float32), 2, -1.0),\n",
       " (array([-0.4279777 ,  0.00760251], dtype=float32), 2, -1.0),\n",
       " (array([-0.42008254,  0.00789515], dtype=float32), 2, -1.0),\n",
       " (array([-0.41195136,  0.00813119], dtype=float32), 2, -1.0),\n",
       " (array([-0.40364194,  0.00830941], dtype=float32), 2, -1.0),\n",
       " (array([-0.39521292,  0.00842903], dtype=float32), 2, -1.0),\n",
       " (array([-0.38672316,  0.00848976], dtype=float32), 2, -1.0),\n",
       " (array([-0.37823135,  0.0084918 ], dtype=float32), 2, -1.0),\n",
       " (array([-0.3697956 ,  0.00843578], dtype=float32), 2, -1.0),\n",
       " (array([-0.36147285,  0.00832275], dtype=float32), 2, -1.0),\n",
       " (array([-0.35331866,  0.00815418], dtype=float32), 2, -1.0),\n",
       " (array([-0.34538674,  0.00793191], dtype=float32), 2, -1.0),\n",
       " (array([-0.33772865,  0.00765809], dtype=float32), 2, -1.0),\n",
       " (array([-0.33039346,  0.00733519], dtype=float32), 2, -1.0),\n",
       " (array([-0.32342753,  0.00696593], dtype=float32), 2, -1.0),\n",
       " (array([-0.31687427,  0.00655326], dtype=float32), 2, -1.0),\n",
       " (array([-0.31077394,  0.00610032], dtype=float32), 2, -1.0),\n",
       " (array([-0.30516356,  0.0056104 ], dtype=float32), 2, -1.0),\n",
       " (array([-0.30007666,  0.00508689], dtype=float32), 2, -1.0),\n",
       " (array([-0.29554334,  0.00453332], dtype=float32), 2, -1.0),\n",
       " (array([-0.2915901 ,  0.00395325], dtype=float32), 2, -1.0),\n",
       " (array([-0.28823978,  0.00335032], dtype=float32), 2, -1.0),\n",
       " (array([-0.28551158,  0.00272818], dtype=float32), 2, -1.0),\n",
       " (array([-0.28342107,  0.00209053], dtype=float32), 2, -1.0),\n",
       " (array([-0.28197998,  0.00144107], dtype=float32), 2, -1.0),\n",
       " (array([-0.2811965,  0.0007835], dtype=float32), 2, -1.0),\n",
       " (array([-2.8107497e-01,  1.2153574e-04], dtype=float32), 2, -1.0),\n",
       " (array([-0.28161606, -0.00054111], dtype=float32), 2, -1.0),\n",
       " (array([-0.2828168 , -0.00120072], dtype=float32), 2, -1.0),\n",
       " (array([-0.28467038, -0.00185359], dtype=float32), 2, -1.0),\n",
       " (array([-0.2871664, -0.002496 ], dtype=float32), 2, -1.0),\n",
       " (array([-0.29029062, -0.00312425], dtype=float32), 2, -1.0),\n",
       " (array([-0.29402527, -0.00373465], dtype=float32), 2, -1.0),\n",
       " (array([-0.29834878, -0.00432352], dtype=float32), 2, -1.0),\n",
       " (array([-0.30323604, -0.00488723], dtype=float32), 2, -1.0),\n",
       " (array([-0.3086582 , -0.00542217], dtype=float32), 2, -1.0),\n",
       " (array([-0.314583  , -0.00592481], dtype=float32), 2, -1.0),\n",
       " (array([-0.3209747, -0.0063917], dtype=float32), 2, -1.0),\n",
       " (array([-0.32779422, -0.00681951], dtype=float32), 2, -1.0),\n",
       " (array([-0.33499926, -0.00720503], dtype=float32), 2, -1.0),\n",
       " (array([-0.34254453, -0.00754526], dtype=float32), 2, -1.0),\n",
       " (array([-0.35038188, -0.00783737], dtype=float32), 2, -1.0),\n",
       " (array([-0.3584607 , -0.00807882], dtype=float32), 2, -1.0),\n",
       " (array([-0.366728  , -0.00826731], dtype=float32), 2, -1.0),\n",
       " (array([-0.3751289 , -0.00840089], dtype=float32), 2, -1.0),\n",
       " (array([-0.38360685, -0.00847796], dtype=float32), 2, -1.0),\n",
       " (array([-0.39210415, -0.0084973 ], dtype=float32), 2, -1.0),\n",
       " (array([-0.4005623 , -0.00845813], dtype=float32), 2, -1.0),\n",
       " (array([-0.40892237, -0.00836009], dtype=float32), 2, -1.0),\n",
       " (array([-0.41712567, -0.0082033 ], dtype=float32), 2, -1.0),\n",
       " (array([-0.425114  , -0.00798834], dtype=float32), 2, -1.0),\n",
       " (array([-0.4328303 , -0.00771627], dtype=float32), 2, -1.0),\n",
       " (array([-0.44021896, -0.00738866], dtype=float32), 2, -1.0),\n",
       " (array([-0.44722646, -0.0070075 ], dtype=float32), 2, -1.0),\n",
       " (array([-0.45380175, -0.0065753 ], dtype=float32), 2, -1.0),\n",
       " (array([-0.4598967 , -0.00609496], dtype=float32), 2, -1.0),\n",
       " (array([-0.46546653, -0.00556982], dtype=float32), 2, -1.0),\n",
       " (array([-0.47047013, -0.00500361], dtype=float32), 2, -1.0),\n",
       " (array([-0.47487053, -0.00440039], dtype=float32), 2, -1.0),\n",
       " (array([-0.47863507, -0.00376455], dtype=float32), 2, -1.0),\n",
       " (array([-0.48173583, -0.00310075], dtype=float32), 2, -1.0),\n",
       " (array([-0.48414972, -0.0024139 ], dtype=float32), 2, -1.0),\n",
       " (array([-0.4858588 , -0.00170908], dtype=float32), 2, -1.0),\n",
       " (array([-0.48685032, -0.00099153], dtype=float32), 2, -1.0),\n",
       " (array([-4.8711690e-01, -2.6658046e-04], dtype=float32), 2, -1.0),\n",
       " (array([-4.8665658e-01,  4.6035150e-04], dtype=float32), 2, -1.0),\n",
       " (array([-0.4854727 ,  0.00118385], dtype=float32), 2, -1.0),\n",
       " (array([-0.48357418,  0.00189853], dtype=float32), 2, -1.0),\n",
       " (array([-0.48097512,  0.00259907], dtype=float32), 2, -1.0),\n",
       " (array([-0.47769487,  0.00328026], dtype=float32), 2, -1.0),\n",
       " (array([-0.4737578 ,  0.00393707], dtype=float32), 2, -1.0),\n",
       " (array([-0.46919313,  0.00456465], dtype=float32), 2, -1.0),\n",
       " (array([-0.46403474,  0.00515842], dtype=float32), 2, -1.0),\n",
       " (array([-0.45832065,  0.00571406], dtype=float32), 2, -1.0),\n",
       " (array([-0.45209306,  0.0062276 ], dtype=float32), 2, -1.0),\n",
       " (array([-0.44539765,  0.00669541], dtype=float32), 2, -1.0),\n",
       " (array([-0.43828338,  0.00711427], dtype=float32), 2, -1.0),\n",
       " (array([-0.43080202,  0.00748136], dtype=float32), 2, -1.0),\n",
       " (array([-0.4230077 ,  0.00779434], dtype=float32), 2, -1.0),\n",
       " (array([-0.41495636,  0.00805131], dtype=float32), 2, -1.0),\n",
       " (array([-0.40670553,  0.00825084], dtype=float32), 2, -1.0),\n",
       " (array([-0.39831352,  0.008392  ], dtype=float32), 2, -1.0),\n",
       " (array([-0.3898392 ,  0.00847433], dtype=float32), 2, -1.0),\n",
       " (array([-0.38134137,  0.00849784], dtype=float32), 2, -1.0),\n",
       " (array([-0.37287837,  0.008463  ], dtype=float32), 2, -1.0),\n",
       " (array([-0.36450765,  0.00837073], dtype=float32), 2, -1.0),\n",
       " (array([-0.3562853 ,  0.00822233], dtype=float32), 2, -1.0),\n",
       " (array([-0.3482658 ,  0.00801951], dtype=float32), 2, -1.0),\n",
       " (array([-0.3405015 ,  0.00776432], dtype=float32), 2, -1.0),\n",
       " (array([-0.33304238,  0.00745911], dtype=float32), 2, -1.0),\n",
       " (array([-0.32593587,  0.00710652], dtype=float32), 2, -1.0),\n",
       " (array([-0.31922644,  0.00670941], dtype=float32), 2, -1.0),\n",
       " (array([-0.3129556 ,  0.00627086], dtype=float32), 2, -1.0),\n",
       " (array([-0.30716148,  0.00579411], dtype=float32), 2, -1.0),\n",
       " (array([-0.30187896,  0.00528251], dtype=float32), 2, -1.0),\n",
       " (array([-0.29713944,  0.00473955], dtype=float32), 2, -1.0),\n",
       " (array([-0.29297066,  0.00416877], dtype=float32), 2, -1.0),\n",
       " (array([-0.28939685,  0.0035738 ], dtype=float32), 2, -1.0),\n",
       " (array([-0.28643855,  0.00295828], dtype=float32), 2, -1.0),\n",
       " (array([-0.2841127 ,  0.00232589], dtype=float32), 2, -1.0),\n",
       " (array([-0.28243235,  0.00168033], dtype=float32), 2, -1.0),\n",
       " (array([-0.28140706,  0.0010253 ], dtype=float32), 0, -1.0),\n",
       " (array([-0.28304252, -0.00163548], dtype=float32), 2, -1.0),\n",
       " (array([-0.2853296 , -0.00228708], dtype=float32), 2, -1.0),\n",
       " (array([-0.28825536, -0.00292576], dtype=float32), 2, -1.0),\n",
       " (array([-0.29180318, -0.00354781], dtype=float32), 2, -1.0),\n",
       " (array([-0.29595268, -0.00414951], dtype=float32), 2, -1.0),\n",
       " (array([-0.3006799, -0.0047272], dtype=float32), 2, -1.0),\n",
       " (array([-0.3059571 , -0.00527723], dtype=float32), 2, -1.0),\n",
       " (array([-0.31175312, -0.00579601], dtype=float32), 2, -1.0),\n",
       " (array([-0.31803316, -0.00628003], dtype=float32), 2, -1.0),\n",
       " (array([-0.32475904, -0.00672589], dtype=float32), 2, -1.0),\n",
       " (array([-0.33188936, -0.00713031], dtype=float32), 2, -1.0),\n",
       " (array([-0.33937952, -0.00749016], dtype=float32), 2, -1.0),\n",
       " (array([-0.34718207, -0.00780254], dtype=float32), 2, -1.0),\n",
       " (array([-0.3552468 , -0.00806476], dtype=float32), 2, -1.0),\n",
       " (array([-0.36352122, -0.0082744 ], dtype=float32), 2, -1.0),\n",
       " (array([-0.37195057, -0.00842936], dtype=float32), 2, -1.0),\n",
       " (array([-0.38047847, -0.00852789], dtype=float32), 2, -1.0),\n",
       " (array([-0.3890471 , -0.00856862], dtype=float32), 2, -1.0),\n",
       " (array([-0.39759764, -0.00855057], dtype=float32), 2, -1.0),\n",
       " (array([-0.4060709 , -0.00847324], dtype=float32), 2, -1.0),\n",
       " (array([-0.41440743, -0.00833655], dtype=float32), 2, -1.0),\n",
       " (array([-0.42254835, -0.00814091], dtype=float32), 2, -1.0),\n",
       " (array([-0.43043557, -0.00788724], dtype=float32), 2, -1.0),\n",
       " (array([-0.43801248, -0.0075769 ], dtype=float32), 2, -1.0),\n",
       " (array([-0.44522426, -0.00721177], dtype=float32), 2, -1.0),\n",
       " (array([-0.4520184 , -0.00679417], dtype=float32), 2, -1.0),\n",
       " (array([-0.45834532, -0.00632691], dtype=float32), 2, -1.0),\n",
       " (array([-0.46415854, -0.00581319], dtype=float32), 2, -1.0),\n",
       " (array([-0.46941516, -0.00525663], dtype=float32), 2, -1.0),\n",
       " (array([-0.4740764 , -0.00466122], dtype=float32), 2, -1.0),\n",
       " (array([-0.47810766, -0.00403128], dtype=float32), 2, -1.0),\n",
       " (array([-0.48147905, -0.0033714 ], dtype=float32), 2, -1.0),\n",
       " (array([-0.48416552, -0.00268646], dtype=float32), 2, -1.0),\n",
       " (array([-0.48614705, -0.00198152], dtype=float32), 2, -1.0),\n",
       " (array([-0.48740888, -0.00126182], dtype=float32), 2, -1.0),\n",
       " (array([-0.48794156, -0.00053271], dtype=float32), 2, -1.0),\n",
       " (array([-4.8774120e-01,  2.0037114e-04], dtype=float32), 2, -1.0),\n",
       " (array([-0.48680925,  0.00093196], dtype=float32), 2, -1.0),\n",
       " (array([-0.48515266,  0.0016566 ], dtype=float32), 2, -1.0),\n",
       " (array([-0.48278376,  0.00236889], dtype=float32), 2, -1.0),\n",
       " (array([-0.4797202 ,  0.00306354], dtype=float32), 2, -1.0),\n",
       " (array([-0.4759848,  0.0037354], dtype=float32), 2, -1.0),\n",
       " (array([-0.4716053 ,  0.00437951], dtype=float32), 2, -1.0),\n",
       " (array([-0.46661416,  0.00499114], dtype=float32), 2, -1.0),\n",
       " (array([-0.46104833,  0.00556583], dtype=float32), 2, -1.0),\n",
       " (array([-0.45494887,  0.00609945], dtype=float32), 2, -1.0),\n",
       " (array([-0.44836068,  0.00658821], dtype=float32), 2, -1.0),\n",
       " (array([-0.44133198,  0.0070287 ], dtype=float32), 2, -1.0),\n",
       " (array([-0.43391404,  0.00741795], dtype=float32), 2, -1.0),\n",
       " (array([-0.42616063,  0.0077534 ], dtype=float32), 2, -1.0),\n",
       " (array([-0.41812766,  0.00803297], dtype=float32), 2, -1.0),\n",
       " (array([-0.4098726 ,  0.00825507], dtype=float32), 2, -1.0),\n",
       " (array([-0.401454  ,  0.00841858], dtype=float32), 2, -1.0),\n",
       " (array([-0.39293113,  0.00852286], dtype=float32), 2, -1.0),\n",
       " (array([-0.38436338,  0.00856776], dtype=float32), 2, -1.0),\n",
       " (array([-0.3758098 ,  0.00855359], dtype=float32), 2, -1.0),\n",
       " (array([-0.36732864,  0.00848114], dtype=float32), 2, -1.0),\n",
       " (array([-0.35897708,  0.00835157], dtype=float32), 2, -1.0),\n",
       " (array([-0.3508106 ,  0.00816649], dtype=float32), 2, -1.0),\n",
       " (array([-0.34288275,  0.00792784], dtype=float32), 2, -1.0),\n",
       " (array([-0.33524486,  0.0076379 ], dtype=float32), 2, -1.0),\n",
       " (array([-0.32794562,  0.00729923], dtype=float32), 2, -1.0),\n",
       " (array([-0.32103097,  0.00691465], dtype=float32), 2, -1.0),\n",
       " (array([-0.31454378,  0.00648719], dtype=float32), 2, -1.0),\n",
       " (array([-0.3085237 ,  0.00602006], dtype=float32), 2, -1.0),\n",
       " (array([-0.3030071 ,  0.00551661], dtype=float32), 2, -1.0),\n",
       " (array([-0.2980268 ,  0.00498032], dtype=float32), 2, -1.0),\n",
       " (array([-0.29361206,  0.00441473], dtype=float32), 2, -1.0),\n",
       " (array([-0.2897886 ,  0.00382346], dtype=float32), 2, -1.0),\n",
       " (array([-0.28657842,  0.00321018], dtype=float32), 2, -1.0),\n",
       " (array([-0.28399983,  0.00257859], dtype=float32), 2, -1.0),\n",
       " (array([-0.28206745,  0.00193239], dtype=float32), 2, -1.0),\n",
       " (array([-0.28079212,  0.00127531], dtype=float32), 2, -1.0),\n",
       " (array([-0.28018105,  0.00061108], dtype=float32), 2, -1.0),\n",
       " (array([-2.8023762e-01, -5.6562505e-05], dtype=float32), 2, -1.0),\n",
       " (array([-0.28096148, -0.00072389], dtype=float32), 2, -1.0),\n",
       " (array([-0.28234866, -0.00138717], dtype=float32), 2, -1.0),\n",
       " (array([-0.28439134, -0.00204267], dtype=float32), 2, -1.0),\n",
       " (array([-0.287078  , -0.00268666], dtype=float32), 2, -1.0),\n",
       " (array([-0.2903934 , -0.00331541], dtype=float32), 2, -1.0),\n",
       " (array([-0.29431865, -0.00392522], dtype=float32), 2, -1.0),\n",
       " (array([-0.29883105, -0.0045124 ], dtype=float32), 2, -1.0),\n",
       " (array([-0.30390432, -0.00507328], dtype=float32), 2, -1.0),\n",
       " (array([-0.3095086 , -0.00560426], dtype=float32), 2, -1.0),\n",
       " (array([-0.31561038, -0.0061018 ], dtype=float32), 2, -1.0),\n",
       " (array([-0.32217282, -0.00656245], dtype=float32), 2, -1.0)]"
      ]
     },
     "execution_count": 218,
     "metadata": {},
     "output_type": "execute_result"
    }
   ],
   "source": [
    "history"
   ]
  }
 ],
 "metadata": {
  "kernelspec": {
   "display_name": "Python 3 (ipykernel)",
   "language": "python",
   "name": "python3"
  },
  "language_info": {
   "codemirror_mode": {
    "name": "ipython",
    "version": 3
   },
   "file_extension": ".py",
   "mimetype": "text/x-python",
   "name": "python",
   "nbconvert_exporter": "python",
   "pygments_lexer": "ipython3",
   "version": "3.8.10"
  }
 },
 "nbformat": 4,
 "nbformat_minor": 5
}
