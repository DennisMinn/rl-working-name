{
 "cells": [
  {
   "cell_type": "code",
   "execution_count": 65,
   "id": "b30627bd",
   "metadata": {},
   "outputs": [
    {
     "name": "stdout",
     "output_type": "stream",
     "text": [
      "The autoreload extension is already loaded. To reload it, use:\n",
      "  %reload_ext autoreload\n"
     ]
    }
   ],
   "source": [
    "import gym\n",
    "from torch import optim\n",
    "from models import *\n",
    "import functools\n",
    "from tqdm.auto import tqdm\n",
    "%load_ext autoreload\n",
    "%autoreload 2"
   ]
  },
  {
   "cell_type": "code",
   "execution_count": 66,
   "id": "263d1b6a",
   "metadata": {},
   "outputs": [],
   "source": [
    "env = gym.make(\"CartPole-v1\")"
   ]
  },
  {
   "cell_type": "code",
   "execution_count": 70,
   "id": "7fc5c3df",
   "metadata": {
    "scrolled": false
   },
   "outputs": [
    {
     "data": {
      "application/vnd.jupyter.widget-view+json": {
       "model_id": "e5695906f16f438a9bbb0bf938ab8855",
       "version_major": 2,
       "version_minor": 0
      },
      "text/plain": [
       "  0%|          | 0/1000 [00:00<?, ?it/s]"
      ]
     },
     "metadata": {},
     "output_type": "display_data"
    },
    {
     "name": "stdout",
     "output_type": "stream",
     "text": [
      "9.00\r"
     ]
    }
   ],
   "source": [
    "svalue = StateValue(4)\n",
    "policy = Policy(4, 2)\n",
    "\n",
    "svalue_optimizer = optim.AdamW(svalue.parameters())\n",
    "policy_optimizer = optim.AdamW(policy.parameters())\n",
    "\n",
    "for episode in tqdm(range(1000)):\n",
    "    \n",
    "    history = []\n",
    "    state = env.reset()\n",
    "    isTerminal = False\n",
    "    score = 0\n",
    "    \n",
    "    # episode\n",
    "    while not isTerminal:\n",
    "        with torch.no_grad():\n",
    "            action = torch.argmax(policy.forward(state)).item()\n",
    "        state_prime, reward, isTerminal, info = env.step(action)\n",
    "        \n",
    "        history.append((state, action, reward))\n",
    "        state = state_prime\n",
    "\n",
    "    for i in range(len(history)):\n",
    "        svalue_optimizer.zero_grad()\n",
    "        policy_optimizer.zero_grad()\n",
    "        \n",
    "        state, action, _ = history[i]\n",
    "\n",
    "        G = G_t(history[i:])\n",
    "        svalue_loss = -1 * (G - svalue(state))\n",
    "        policy_loss = pow(1, i) * svalue_loss.item() * policy(state)[action]\n",
    "        \n",
    "        svalue_optimizer.step()\n",
    "        policy_optimizer.step()\n",
    "        \n",
    "    print(G_t(history), end=\"\\r\")\n",
    "        \n",
    "    "
   ]
  },
  {
   "cell_type": "code",
   "execution_count": 59,
   "id": "7f9f0c42",
   "metadata": {},
   "outputs": [
    {
     "data": {
      "text/plain": [
       "Box([-1.2  -0.07], [0.6  0.07], (2,), float32)"
      ]
     },
     "execution_count": 59,
     "metadata": {},
     "output_type": "execute_result"
    }
   ],
   "source": [
    "env.observation_space"
   ]
  },
  {
   "cell_type": "code",
   "execution_count": 53,
   "id": "216c1ed1",
   "metadata": {
    "scrolled": true
   },
   "outputs": [
    {
     "data": {
      "text/plain": [
       "tensor([0.2930, 0.5017, 0.2054], grad_fn=<SoftmaxBackward0>)"
      ]
     },
     "execution_count": 53,
     "metadata": {},
     "output_type": "execute_result"
    }
   ],
   "source": [
    "policy.forward(state)"
   ]
  },
  {
   "cell_type": "code",
   "execution_count": 54,
   "id": "e6dad287",
   "metadata": {},
   "outputs": [
    {
     "data": {
      "text/plain": [
       "array([-0.5322641 ,  0.00834758], dtype=float32)"
      ]
     },
     "execution_count": 54,
     "metadata": {},
     "output_type": "execute_result"
    }
   ],
   "source": [
    "state"
   ]
  },
  {
   "cell_type": "code",
   "execution_count": 44,
   "id": "0d4b9cf9",
   "metadata": {},
   "outputs": [
    {
     "data": {
      "text/plain": [
       "tensor([0.3730, 0.2970, 0.3300])"
      ]
     },
     "execution_count": 44,
     "metadata": {},
     "output_type": "execute_result"
    }
   ],
   "source": [
    "with torch.no_grad():\n",
    "    action = policy.forward(state)\n",
    "action"
   ]
  },
  {
   "cell_type": "code",
   "execution_count": 9,
   "id": "a11e924e",
   "metadata": {
    "scrolled": false
   },
   "outputs": [
    {
     "data": {
      "text/plain": [
       "-199.0"
      ]
     },
     "execution_count": 9,
     "metadata": {},
     "output_type": "execute_result"
    }
   ],
   "source": [
    "def G_t(trajectory):\n",
    "    rewards = [reward for _, _, reward in trajectory]\n",
    "    _return = functools.reduce(\n",
    "        lambda _return, reward: _return + reward[1] * pow(1, reward[0]),\n",
    "        enumerate(rewards),\n",
    "        0\n",
    "    )\n",
    "\n",
    "    return _return\n",
    "\n",
    "G_t(history[1:])"
   ]
  },
  {
   "cell_type": "code",
   "execution_count": 13,
   "id": "14fa5812",
   "metadata": {},
   "outputs": [
    {
     "data": {
      "text/plain": [
       "tensor([0.1925, 0.1725, 0.2062], grad_fn=<AddBackward0>)"
      ]
     },
     "execution_count": 13,
     "metadata": {},
     "output_type": "execute_result"
    }
   ],
   "source": [
    "tmp = policy.forward(state)\n",
    "tmp"
   ]
  },
  {
   "cell_type": "code",
   "execution_count": 15,
   "id": "c4b9b993",
   "metadata": {},
   "outputs": [
    {
     "data": {
      "text/plain": [
       "tensor(-1.5787, grad_fn=<LogBackward0>)"
      ]
     },
     "execution_count": 15,
     "metadata": {},
     "output_type": "execute_result"
    }
   ],
   "source": [
    "torch.log(tmp[torch.argmax(tmp)])"
   ]
  },
  {
   "cell_type": "code",
   "execution_count": 18,
   "id": "7abba22c",
   "metadata": {},
   "outputs": [
    {
     "data": {
      "text/plain": [
       "200"
      ]
     },
     "execution_count": 18,
     "metadata": {},
     "output_type": "execute_result"
    }
   ],
   "source": [
    "len(history)"
   ]
  },
  {
   "cell_type": "code",
   "execution_count": 16,
   "id": "d1bb7cfe",
   "metadata": {},
   "outputs": [
    {
     "data": {
      "text/plain": [
       "(array([-0.5235694 ,  0.00094133], dtype=float32), 1, -1.0)"
      ]
     },
     "execution_count": 16,
     "metadata": {},
     "output_type": "execute_result"
    }
   ],
   "source": [
    "history[-1]"
   ]
  },
  {
   "cell_type": "code",
   "execution_count": 23,
   "id": "67cc6fb9",
   "metadata": {},
   "outputs": [
    {
     "data": {
      "text/plain": [
       "(array([-0.47770315,  0.        ], dtype=float32),\n",
       " array([-0.47704628,  0.00065687], dtype=float32))"
      ]
     },
     "execution_count": 23,
     "metadata": {},
     "output_type": "execute_result"
    }
   ],
   "source": [
    "state, state_prime"
   ]
  }
 ],
 "metadata": {
  "kernelspec": {
   "display_name": "Python 3 (ipykernel)",
   "language": "python",
   "name": "python3"
  },
  "language_info": {
   "codemirror_mode": {
    "name": "ipython",
    "version": 3
   },
   "file_extension": ".py",
   "mimetype": "text/x-python",
   "name": "python",
   "nbconvert_exporter": "python",
   "pygments_lexer": "ipython3",
   "version": "3.8.10"
  }
 },
 "nbformat": 4,
 "nbformat_minor": 5
}
