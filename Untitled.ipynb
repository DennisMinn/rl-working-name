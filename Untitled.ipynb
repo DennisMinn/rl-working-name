{
 "cells": [
  {
   "cell_type": "code",
   "execution_count": 25,
   "id": "b30627bd",
   "metadata": {},
   "outputs": [],
   "source": [
    "import gym\n",
    "\n",
    "from models import *\n",
    "%load_ext autoreload\n",
    "%autoreload 2"
   ]
  },
  {
   "cell_type": "code",
   "execution_count": 42,
   "id": "86cb9f44",
   "metadata": {},
   "outputs": [
    {
     "name": "stdout",
     "output_type": "stream",
     "text": [
      "tensor(2)\n"
     ]
    }
   ],
   "source": [
    "with torch.no_grad():\n",
    "    action = torch.argmax(policy.forward(state))\n",
    "    print(action)"
   ]
  },
  {
   "cell_type": "code",
   "execution_count": 6,
   "id": "263d1b6a",
   "metadata": {},
   "outputs": [],
   "source": [
    "env = gym.make(\"MountainCar-v0\")"
   ]
  },
  {
   "cell_type": "code",
   "execution_count": 8,
   "id": "de716e46",
   "metadata": {
    "scrolled": true
   },
   "outputs": [
    {
     "data": {
      "text/plain": [
       "array([-0.5699751,  0.       ], dtype=float32)"
      ]
     },
     "execution_count": 8,
     "metadata": {},
     "output_type": "execute_result"
    }
   ],
   "source": [
    "env.reset()"
   ]
  },
  {
   "cell_type": "code",
   "execution_count": 17,
   "id": "7fc5c3df",
   "metadata": {},
   "outputs": [],
   "source": [
    "for episode in range(5):\n",
    "    state = env.reset()\n",
    "    isTerminal = False\n",
    "    score = 0\n",
    "    while not isTerminal:\n",
    "        with torch.no_grad():\n",
    "            action = torch.argmax(policy.forward(state))\n",
    "        state_prime, reward, isTerminal, info = env.step(action)\n",
    "        \n",
    "        history.append((state, action, reward))\n",
    "        \n",
    "        break\n",
    "        \n",
    "    break"
   ]
  },
  {
   "cell_type": "code",
   "execution_count": 23,
   "id": "67cc6fb9",
   "metadata": {},
   "outputs": [
    {
     "data": {
      "text/plain": [
       "(array([-0.47770315,  0.        ], dtype=float32),\n",
       " array([-0.47704628,  0.00065687], dtype=float32))"
      ]
     },
     "execution_count": 23,
     "metadata": {},
     "output_type": "execute_result"
    }
   ],
   "source": [
    "state, state_prime"
   ]
  }
 ],
 "metadata": {
  "kernelspec": {
   "display_name": "Python 3 (ipykernel)",
   "language": "python",
   "name": "python3"
  },
  "language_info": {
   "codemirror_mode": {
    "name": "ipython",
    "version": 3
   },
   "file_extension": ".py",
   "mimetype": "text/x-python",
   "name": "python",
   "nbconvert_exporter": "python",
   "pygments_lexer": "ipython3",
   "version": "3.8.10"
  }
 },
 "nbformat": 4,
 "nbformat_minor": 5
}
