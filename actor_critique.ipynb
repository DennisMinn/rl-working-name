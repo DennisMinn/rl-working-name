{
 "cells": [
  {
   "cell_type": "code",
   "execution_count": 2,
   "id": "b30627bd",
   "metadata": {},
   "outputs": [],
   "source": [
    "import gym, os\n",
    "from itertools import count\n",
    "import torch\n",
    "import torch.nn as nn\n",
    "import torch.optim as optim\n",
    "import torch.nn.functional as F\n",
    "from torch.distributions import Categorical\n",
    "import matplotlib.pyplot as plt\n",
    "import numpy as np\n",
    "%load_ext autoreload\n",
    "%autoreload 2\n",
    "\n"
   ]
  },
  {
   "cell_type": "code",
   "execution_count": 3,
   "id": "f857fbf5",
   "metadata": {},
   "outputs": [],
   "source": [
    "class Actor(nn.Module):\n",
    "    def __init__(self, state_size, action_size):\n",
    "        super(Actor, self).__init__()\n",
    "        self.state_size = state_size\n",
    "        self.action_size = action_size\n",
    "        self.linear1 = nn.Linear(self.state_size, 128)\n",
    "        self.linear3 = nn.Linear(128, self.action_size)\n",
    "\n",
    "    def forward(self, state):\n",
    "        output = F.relu(self.linear1(state))\n",
    "        output = self.linear3(output)\n",
    "        distribution = F.softmax(output, dim=-1)\n",
    "        return distribution\n",
    "\n",
    "\n",
    "class Critic(nn.Module):\n",
    "    def __init__(self, state_size, action_size):\n",
    "        super(Critic, self).__init__()\n",
    "        self.state_size = state_size\n",
    "        self.action_size = action_size\n",
    "        self.linear1 = nn.Linear(self.state_size, 128)\n",
    "        self.linear3 = nn.Linear(128, 1)\n",
    "\n",
    "    def forward(self, state):\n",
    "        output = F.relu(self.linear1(state))\n",
    "        # output = F.relu(self.linear2(output))\n",
    "        value = self.linear3(output)\n",
    "        return value"
   ]
  },
  {
   "cell_type": "code",
   "execution_count": 16,
   "id": "3b692966",
   "metadata": {},
   "outputs": [],
   "source": [
    "env = gym.make(\"MountainCar-v0\")\n"
   ]
  },
  {
   "cell_type": "code",
   "execution_count": 17,
   "id": "2ce1e827",
   "metadata": {},
   "outputs": [],
   "source": [
    "gamma = .99\n",
    "num_episodes = 5000\n",
    "num_steps = 1000\n",
    "env = gym.make(\"MountainCar-v0\")\n",
    "# env = gym.make('CartPole-v1')\n",
    "state_size = env.observation_space.shape[0]\n",
    "action_size = env.action_space.n\n",
    "\n",
    "actor = Actor(state_size, action_size)\n",
    "critic = Critic(state_size, action_size)\n",
    "\n",
    "count_episode = range(1,num_episodes+1)\n",
    "count_actions = []\n",
    "total_count_actions = []\n",
    "total_a = 0\n",
    "for episode in range(num_episodes):\n",
    "    actor_optim = optim.Adam(actor.parameters(),lr=0.001)\n",
    "    critic_optim = optim.Adam(critic.parameters(), lr=0.001)\n",
    "    state = env.reset()\n",
    "    isTerminal = False\n",
    "    score = 0\n",
    "    \n",
    "    count_a = 0\n",
    "    \n",
    "    for i in range(num_steps):       \n",
    "        count_a += 1\n",
    "        state = torch.FloatTensor(state)\n",
    "        with torch.no_grad():\n",
    "            action = torch.argmax(actor(state))\n",
    "            log_prob = torch.max(actor(state))\n",
    "        state_prime, reward, isTerminal, info = env.step(action.item())\n",
    "        state_prime = torch.FloatTensor(state_prime)\n",
    "        if state_prime[0] >= 0.5:\n",
    "            print(f'Num episodes {episode}, num actions {i} {isTerminal}')\n",
    "            v_next = torch.tensor([0]).float().unsqueeze(0)\n",
    "        # if isTerminal:\n",
    "        #     print(f'Num episodes {episode}, num actions {i} {isTerminal}')\n",
    "        v_curr = critic(state)\n",
    "        v_next = critic(state_prime)\n",
    "            \n",
    "\n",
    "        td_target = reward + gamma * v_next\n",
    "        td_error = reward + ((gamma*v_next)-v_curr)\n",
    "        \n",
    "        # print(v_curr)\n",
    "        # print(log_prob)\n",
    "        # Policy\n",
    "        actor_loss = -(td_error)\n",
    "        actor_loss *= log_prob\n",
    "        actor_optim.zero_grad()\n",
    "        actor_loss.backward(retain_graph=True)\n",
    "        actor_optim.step()\n",
    "\n",
    "        # Value\n",
    "        critic_loss = F.mse_loss(td_target,v_curr)\n",
    "        critic_optim.zero_grad()\n",
    "        critic_loss.backward()\n",
    "        critic_optim.step()\n",
    "        state = state_prime\n",
    "\n",
    "        # print(f'Actor loss is {actor_loss} and critic loss is {critic_loss}')\n",
    "        if state_prime[0] >= 0.5:\n",
    "            break\n",
    "        # print(state)\n",
    "    # print(count_a)\n",
    "    count_actions.append(count_a)\n",
    "    total_a += count_a\n",
    "    total_count_actions.append(total_a)\n",
    "      \n",
    "torch.save(actor, 'actor.pkl')\n",
    "torch.save(critic, 'critic.pkl')\n",
    "env.close()        \n",
    "\n",
    "plt.figure()\n",
    "plt.title('Count of Episodes vs Count of Actions')\n",
    "plt.xlabel('Count of Episodes')\n",
    "plt.ylabel('Count of Actions')\n",
    "plt.plot(count_episode, count_actions)\n",
    "plt.savefig('count_actions_ac.jpg')\n",
    "plt.show()\n",
    "\n",
    "plt.figure()\n",
    "plt.title('Total Actions vs Count of Episodes ')\n",
    "plt.ylabel('Count of Episodes')\n",
    "plt.xlabel('Total Count of Actions')\n",
    "plt.plot(total_count_actions, count_episode)\n",
    "plt.savefig('total_actions_ac.jpg')\n",
    "plt.show()"
   ]
  },
  {
   "cell_type": "code",
   "execution_count": 16,
   "id": "391e8939",
   "metadata": {},
   "outputs": [
    {
     "data": {
      "text/plain": [
       "tensor([-0.3171,  0.0036])"
      ]
     },
     "execution_count": 16,
     "metadata": {},
     "output_type": "execute_result"
    }
   ],
   "source": [
    "state"
   ]
  },
  {
   "cell_type": "code",
   "execution_count": 6,
   "id": "2a53be7a",
   "metadata": {},
   "outputs": [],
   "source": [
    "import gym\n",
    "env = gym.make('MountainCar-v0')\n",
    "env.reset()\n",
    "\n",
    "for i in range(1000):\n",
    "    action = torch.argmax(actor(state))\n",
    "    state_prime, reward, isTerminal, info = env.step(action.item())\n",
    "    state_prime = torch.FloatTensor(state_prime)\n",
    "    state = state_prime\n",
    "    # env.step(env.action_space.sample())\n",
    "    env.render()"
   ]
  }
 ],
 "metadata": {
  "kernelspec": {
   "display_name": "base",
   "language": "python",
   "name": "python3"
  },
  "language_info": {
   "codemirror_mode": {
    "name": "ipython",
    "version": 3
   },
   "file_extension": ".py",
   "mimetype": "text/x-python",
   "name": "python",
   "nbconvert_exporter": "python",
   "pygments_lexer": "ipython3",
   "version": "3.9.15"
  },
  "vscode": {
   "interpreter": {
    "hash": "cc09f31dac7c0d375489b816e1f71545b84c713f14d72a59d408a359f22c77a7"
   }
  }
 },
 "nbformat": 4,
 "nbformat_minor": 5
}
